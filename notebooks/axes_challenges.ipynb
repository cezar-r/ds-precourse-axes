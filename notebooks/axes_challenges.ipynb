{
 "cells": [
  {
   "cell_type": "markdown",
   "metadata": {},
   "source": [
    "# Axes\n",
    "\n",
    "---\n",
    "\n",
    "## Challenges\n",
    "\n",
    "For the lessons on plotting in DSI precourse, instead of doing regular challenges - you're being asked to write the code to make some basic plots in this Jupyter Notebook before committing your work and submitting the URL to your repository.\n",
    "\n",
    "To do so, you must be sure to first fork and clone this repo, and if you aren't sure how to do that, you can look back to those instructions [here](https://learn-2.galvanize.com/content_link/github/gSchool/dsi-prep-module-setup/units/04_github/03_fork_clone_pull.md).\n",
    "\n",
    "The completion of this module requires a basic understanding of `numpy`, `pandas`, and `matplotlib.pyplot`. Please __*do not*__ use any of the pandas built-in visualization tools.\n",
    "\n",
    "Lastly, you'll need to execute the cells with existing code to import the modules, and the data.\n"
   ]
  },
  {
   "cell_type": "markdown",
   "metadata": {},
   "source": [
    "### Challenge 1\n",
    "\n",
    "For the first portion of this assignment, you'll be using a dataset showing the per-share quarterly profits (dividends) of the company Johnson & Johnson starting in 1960, ending in 1980. This extends the second challenge from the challenge in the [scatter plot lesson](https://learn-2.galvanize.com/content_link/github/gSchool/ds-precourse/units/07_matplotlib/02_scatterplots.md).\n",
    "\n",
    "You'll need to do a little work to organize this data in a way that is useful for plotting.\n",
    "\n",
    "```\n",
    "      Qtr1  Qtr2  Qtr3  Qtr4\n",
    "      ----  ----  ----  ----\n",
    "1960  0.71  0.63  0.85  0.44\n",
    "1961  0.61  0.69  0.92  0.55\n",
    "1962  0.72  0.77  0.92  0.60\n",
    "1963  0.83  0.80  1.00  0.77\n",
    "1964  0.92  1.00  1.24  1.00\n",
    "1965  1.16  1.30  1.45  1.25\n",
    "1966  1.26  1.38  1.86  1.56\n",
    "1967  1.53  1.59  1.83  1.86\n",
    "1968  1.53  2.07  2.34  2.25\n",
    "1969  2.16  2.43  2.70  2.25\n",
    "1970  2.79  3.42  3.69  3.60\n",
    "1971  3.60  4.32  4.32  4.05\n",
    "1972  4.86  5.04  5.04  4.41\n",
    "1973  5.58  5.85  6.57  5.31\n",
    "1974  6.03  6.39  6.93  5.85\n",
    "1975  6.93  7.74  7.83  6.12\n",
    "1976  7.74  8.91  8.28  6.84\n",
    "1977  9.54 10.26  9.54  8.73\n",
    "1978 11.88 12.06 12.15  8.91\n",
    "1979 14.04 12.96 14.85  9.99\n",
    "1980 16.20 14.67 16.02 11.61\n",
    "\n",
    "```\n",
    "\n",
    "* The x-axis should show the `time`. You will need to use `np.linspace()` to create an array of x data which aligns with each of the quarterly data points. That is, you will need an array of evenly spaced values starting at 1960, ending at 1981 (exclusive) with four points per year, i.e. `[1960, 1960.25, 1960.5, 1960.75, 1961, .... , 1980.75]`\n",
    "* The y-axis should have the earnings data\n",
    "* The x-axis label should be `\"Year\"`\n",
    "* The y-axis label should be `\"Earnings per share (U.S. Dollars)\"`\n",
    "* The title of the plot should be `\"Johnson and Johnson Quarterly Earnings\"`\n",
    "\n",
    "__*ADDITIONAL FOR THIS CHALLENGE*__\n",
    "\n",
    "* Refer to the [axes lesson](https://learn-2.galvanize.com/content_link/github/gSchool/ds-precourse/units/07_matplotlib/04_axes.md) and change the ticks and labels on the x-axis to show label every-other year. If the axis labels overlap, figure out how to present them at an angle so they don't. (or do this anyways for the sake of learning something new).\n",
    "\n",
    "__*Hint:*__ Look at the documentation or employ google to find the name of the optional parameter to angle or rotate your axis labels.\n"
   ]
  },
  {
   "cell_type": "markdown",
   "metadata": {},
   "source": [
    "1. Enter the code for your plot below\n",
    "2. Execute this cell after you've entered your code to display\n",
    "   the plot below (using `plt.show()`)\n"
   ]
  },
  {
   "cell_type": "code",
   "execution_count": null,
   "metadata": {},
   "outputs": [],
   "source": [
    "# Your code below (You need to make the appropriate imports of matplotlib and numpy)\n",
    "# Your code below (You need to make the appropriate imports of matplotlib and numpy)\n",
    "import matplotlib.pyplot as plt\n",
    "import numpy as np\n",
    "import pandas as pd \n",
    "\n",
    "df = pd.DataFrame({'Qtr1' : [0.71, 0.61, 0.72, 0.83, 0.92, 1.16, 1.26, 1.53, 1.53, 2.16, 2.79, 3.60, 4.86, 5.58, 6.03, 6.93, 7.74, 9.54, 11.88, 14.04, 16.20], \n",
    "                    'Qtr2' : [0.63, 0.69, 0.77, 0.80, 1.00, 1.30, 1.38, 1.59, 2.07, 2.43, 3.42, 4.32, 5.04, 5.85, 6.39, 7.74, 8.91, 10.26, 12.06, 12.96, 14.67],\n",
    "                    'Qtr3' : [0.85, 0.92, 0.92, 1.00, 1.24, 1.45, 1.86, 1.83, 2.34, 2.70, 3.69, 4.32, 5.04, 6.57, 6.93, 7.83, 8.28, 9.54, 12.15, 14.85, 16.02],\n",
    "                    'Qtr4' : [0.44, 0.55, 0.60, 0.77, 1.00, 1.25, 1.56, 1.86, 2.25, 2.25, 3.60, 4.05, 4.41, 5.31, 5.85, 6.12, 6.84, 8.73, 8.91, 9.99, 11.61]}, \n",
    "                    index = [1960, 1961, 1962, 1963, 1964, 1965, 1966, 1967, 1968, 1969, 1970, 1971, 1972, 1973, 1974, 1975, 1976, 1977, 1978, 1979, 1980])\n",
    "'''\n",
    "x_arr = np.linspace(1960, 1981, 85)\n",
    "x_arr = x_arr[:-1]\n",
    "'''\n",
    "\n",
    "plt.figure()\n",
    "plt.plot(df['Qtr1'], label='Qtr1')\n",
    "plt.plot(df['Qtr2'], label='Qtr2')\n",
    "plt.plot(df['Qtr3'], label='Qtr3')\n",
    "plt.plot(df['Qtr4'], label='Qtr4')\n",
    "plt.xlabel('Year')\n",
    "plt.ylabel(\"Earnings per share (U.S. Dollars)\")\n",
    "plt.title(\"Johnson and Johnson Quarterly Earnings\")\n",
    "plt.xticks([1960, 1962, 1964, 1966, 1968, 1970, 1972, 1974, 1976, 1978, 1980], ['1960', '1962', '1964', '1966', '1968', '1970', '1972', '1974', '1976', '1978', '1980'])\n",
    "plt.show()\n",
    "\n",
    "\n"
   ]
  },
  {
   "cell_type": "markdown",
   "metadata": {},
   "source": [
    "3. Once you're happy with your plot, paste your code in the cell below. Replace `plt.show()` with `plt.savefig('../images/jj_earnings_mod_axes.png')` and execute the cell to export the image to a file\n",
    "\n",
    "This is a technique that is not shown in the lesson, but is perhaps the most common way that you might create an image which you are able to share or implement in a presentation.\n"
   ]
  },
  {
   "cell_type": "code",
   "execution_count": null,
   "metadata": {},
   "outputs": [],
   "source": [
    "# Your code to export below\n",
    "# Your code below (You need to make the appropriate imports of matplotlib and numpy)\n",
    "import matplotlib.pyplot as plt\n",
    "import numpy as np\n",
    "import pandas as pd \n",
    "\n",
    "df = pd.DataFrame({'Qtr1' : [0.71, 0.61, 0.72, 0.83, 0.92, 1.16, 1.26, 1.53, 1.53, 2.16, 2.79, 3.60, 4.86, 5.58, 6.03, 6.93, 7.74, 9.54, 11.88, 14.04, 16.20], \n",
    "                    'Qtr2' : [0.63, 0.69, 0.77, 0.80, 1.00, 1.30, 1.38, 1.59, 2.07, 2.43, 3.42, 4.32, 5.04, 5.85, 6.39, 7.74, 8.91, 10.26, 12.06, 12.96, 14.67],\n",
    "                    'Qtr3' : [0.85, 0.92, 0.92, 1.00, 1.24, 1.45, 1.86, 1.83, 2.34, 2.70, 3.69, 4.32, 5.04, 6.57, 6.93, 7.83, 8.28, 9.54, 12.15, 14.85, 16.02],\n",
    "                    'Qtr4' : [0.44, 0.55, 0.60, 0.77, 1.00, 1.25, 1.56, 1.86, 2.25, 2.25, 3.60, 4.05, 4.41, 5.31, 5.85, 6.12, 6.84, 8.73, 8.91, 9.99, 11.61]}, \n",
    "                    index = [1960, 1961, 1962, 1963, 1964, 1965, 1966, 1967, 1968, 1969, 1970, 1971, 1972, 1973, 1974, 1975, 1976, 1977, 1978, 1979, 1980])\n",
    "'''\n",
    "x_arr = np.linspace(1960, 1981, 85)\n",
    "x_arr = x_arr[:-1]\n",
    "'''\n",
    "\n",
    "plt.figure()\n",
    "plt.plot(df['Qtr1'], label='Qtr1')\n",
    "plt.plot(df['Qtr2'], label='Qtr2')\n",
    "plt.plot(df['Qtr3'], label='Qtr3')\n",
    "plt.plot(df['Qtr4'], label='Qtr4')\n",
    "plt.xlabel('Year')\n",
    "plt.ylabel(\"Earnings per share (U.S. Dollars)\")\n",
    "plt.title(\"Johnson and Johnson Quarterly Earnings\")\n",
    "plt.xticks([1960, 1962, 1964, 1966, 1968, 1970, 1972, 1974, 1976, 1978, 1980], ['1960', '1962', '1964', '1966', '1968', '1970', '1972', '1974', '1976', '1978', '1980'])\n",
    "plt.savefig('../images/jj_earnings_mod_axes.png')\n",
    "\n",
    "\n"
   ]
  },
  {
   "cell_type": "markdown",
   "metadata": {},
   "source": [
    "<br><br><br><br><br><br><br><br>\n",
    "\n",
    "---\n",
    "\n",
    "### Challenge 2\n",
    "\n",
    "For the second portion of this assignment, you'll be given a plot of a bivariate normal distribution. We haven't covered what a bivariate distribution is yet, but you can think of it this way for now:\n",
    "\n",
    "You have data of the structure (`x`, `y`), where the `x` value is pulled from a normal distribution with \\\\(\\mu = 0\\\\) and \\\\(\\sigma = 2\\\\), and `y` is pulled from a normal dist. with \\\\(\\mu = 0\\\\) and \\\\(\\sigma = 2\\\\)\n",
    "\n",
    "1. Modify the given plot to set the limits of the x-axis at `(-4, 4)`, and the y-axis to `(-8, 8)`\n",
    "2. Modify the given plot to have ticks and labels at every odd number, and zero of each axis."
   ]
  },
  {
   "cell_type": "code",
   "execution_count": 1,
   "metadata": {},
   "outputs": [
    {
     "data": {
      "text/plain": [
       "[<matplotlib.lines.Line2D at 0x7f7ffcef5e50>]"
      ]
     },
     "execution_count": 1,
     "metadata": {},
     "output_type": "execute_result"
    },
    {
     "data": {
      "image/png": "[encoded data removed]",
      "text/plain": [
       "<Figure size 432x288 with 1 Axes>"
      ]
     },
     "metadata": {
      "needs_background": "light"
     },
     "output_type": "display_data"
    }
   ],
   "source": [
    "# Modify this code to alter the axes\n",
    "\n",
    "import matplotlib.pyplot as plt\n",
    "import numpy as np\n",
    "\n",
    "x = np.random.normal(0, 2, 1000)\n",
    "y = np.random.normal(0, 4, 1000)\n",
    "x_tick_loc = [-3, -1, 0, 1, 3]\n",
    "x_ticks = ['-3', '-1', '0', '1', '3']\n",
    "y_tick_loc = [-7, -5, -3, -1, 0, 1, 3, 5, 7]\n",
    "y_ticks = ['-7', '-5', '-3', '-1', '0', '1', '3', '5', '7']\n",
    "plt.axis([-4, 4, -8, 8])\n",
    "plt.xticks(x_tick_loc, x_ticks)\n",
    "plt.yticks(y_tick_loc, y_ticks)\n",
    "plt.plot(x, y, 'ok', markersize=3, alpha=0.2)\n",
    "plt.show()"
   ]
  },
  {
   "cell_type": "markdown",
   "metadata": {},
   "source": [
    "3. Once you're happy with your plot, paste your code in the cell below. Replace `plt.show()` with `plt.savefig('../images/bivariate_axis_mods.png')` and execute the cell to export the image to a file\n",
    "\n",
    "This is a technique that is not shown in the lesson, but is perhaps the most common way that you might create an image which you are able to share or implement in a presentation."
   ]
  },
  {
   "cell_type": "code",
   "execution_count": null,
   "metadata": {},
   "outputs": [],
   "source": [
    "# Paste your code and export your plot!\n",
    "# Paste your code and export your plot!\n",
    "\n",
    "# Modify this code to alter the axes\n",
    "\n",
    "import matplotlib.pyplot as plt\n",
    "import numpy as np\n",
    "\n",
    "x = np.random.normal(0, 2, 1000)\n",
    "y = np.random.normal(0, 4, 1000)\n",
    "x_tick_loc = [-3, -1, 0, 1, 3]\n",
    "x_ticks = ['-3', '-1', '0', '1', '3']\n",
    "y_tick_loc = [-7, -5, -3, -1, 0, 1, 3, 5, 7]\n",
    "y_ticks = ['-7', '-5', '-3', '-1', '0', '1', '3', '5', '7']\n",
    "plt.axis([-4, 4, -8, 8])\n",
    "plt.xticks(x_tick_loc, x_ticks)\n",
    "plt.yticks(y_tick_loc, y_ticks)\n",
    "plt.plot(x, y, 'ok', markersize=3, alpha=0.2)\n",
    "plt.savefig('../images/bivariate_axis_mods.png')\n"
   ]
  }
 ],
 "metadata": {
  "kernelspec": {
   "display_name": "Python 3",
   "language": "python",
   "name": "python3"
  },
  "language_info": {
   "codemirror_mode": {
    "name": "ipython",
    "version": 3
   },
   "file_extension": ".py",
   "mimetype": "text/x-python",
   "name": "python",
   "nbconvert_exporter": "python",
   "pygments_lexer": "ipython3",
   "version": "3.7.9"
  }
 },
 "nbformat": 4,
 "nbformat_minor": 4
}